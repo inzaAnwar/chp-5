{
 "cells": [
  {
   "cell_type": "code",
   "execution_count": 1,
   "id": "b3fe0fc9",
   "metadata": {},
   "outputs": [
    {
     "name": "stdout",
     "output_type": "stream",
     "text": [
      "10\n",
      "9\n",
      "8\n",
      "7\n",
      "6\n",
      "5\n",
      "4\n",
      "3\n",
      "2\n",
      "1\n",
      "blast\n",
      "0\n"
     ]
    }
   ],
   "source": [
    "# while loop\n",
    "n=10\n",
    "while n>0:\n",
    "    print(n)\n",
    "    n=n-1\n",
    "print(\"blast\")\n",
    "print(n)"
   ]
  },
  {
   "cell_type": "code",
   "execution_count": null,
   "id": "02f7b16d",
   "metadata": {},
   "outputs": [],
   "source": []
  },
  {
   "cell_type": "code",
   "execution_count": null,
   "id": "f858a81c",
   "metadata": {},
   "outputs": [],
   "source": [
    "#infinte loop\n",
    "n=5\n",
    "while n>0:\n",
    "    print(\"hello\")\n",
    "    print(\"inza\")\n",
    "print(\"hope\")"
   ]
  },
  {
   "cell_type": "code",
   "execution_count": 3,
   "id": "d9331e9b",
   "metadata": {},
   "outputs": [
    {
     "name": "stdout",
     "output_type": "stream",
     "text": [
      ">hello\n",
      "hello\n",
      ">done\n",
      "Done\n"
     ]
    }
   ],
   "source": [
    "while True:\n",
    "    line= input(\">\")\n",
    "    if line == \"done\":\n",
    "        break\n",
    "    print(line)\n",
    "print(\"Done\")"
   ]
  },
  {
   "cell_type": "code",
   "execution_count": 8,
   "id": "ebd4e24d",
   "metadata": {},
   "outputs": [
    {
     "name": "stdout",
     "output_type": "stream",
     "text": [
      "enter a number57\n",
      "57\n",
      "enter a number98\n",
      "98\n",
      "enter a number67\n",
      "67\n",
      "enter a number1001\n",
      "All is well\n"
     ]
    }
   ],
   "source": [
    "while True:\n",
    "    line=input(\"enter a number\")\n",
    "    a=int(line)\n",
    "    if a>100:\n",
    "        break#  break statement end the loop and move the next statement\n",
    "    print(a)\n",
    "print(\"All is well\")"
   ]
  },
  {
   "cell_type": "code",
   "execution_count": 10,
   "id": "dd70ae2d",
   "metadata": {},
   "outputs": [
    {
     "name": "stdout",
     "output_type": "stream",
     "text": [
      ">inza\n",
      "inza\n",
      ">#inza\n",
      "># inza \n",
      ">done\n",
      "done\n"
     ]
    }
   ],
   "source": [
    "#Continue\n",
    "while True:\n",
    "    a=input('>')\n",
    "    if a[0]=='#':\n",
    "        continue\n",
    "    if a=='done':\n",
    "        break\n",
    "    print(a)\n",
    "print(\"done\")"
   ]
  },
  {
   "cell_type": "code",
   "execution_count": 14,
   "id": "f0f62cf9",
   "metadata": {},
   "outputs": [
    {
     "name": "stdout",
     "output_type": "stream",
     "text": [
      "> inza\n",
      "inza\n",
      "> #inza\n",
      "> #inz\n",
      "> done\n",
      "Done!\n"
     ]
    }
   ],
   "source": [
    "while True:\n",
    "    line = input('> ')\n",
    "    if line[0] == '#' :\n",
    "        continue\n",
    "    if line == 'done' :\n",
    "        break\n",
    "    print(line)\n",
    "print('Done!')"
   ]
  },
  {
   "cell_type": "code",
   "execution_count": null,
   "id": "903e755a",
   "metadata": {},
   "outputs": [],
   "source": [
    "a=input(\"enter number\")\n",
    "n=int(a)\n",
    "\n",
    "while n>60:\n",
    "    print(\"n\")\n",
    "    if n==90:\n",
    "        continue\n",
    "    if n==30:\n",
    "        break\n",
    "    print(n)\n",
    "print(\"done\")\n",
    "    "
   ]
  },
  {
   "cell_type": "code",
   "execution_count": 19,
   "id": "971ffe5c",
   "metadata": {},
   "outputs": [
    {
     "name": "stdout",
     "output_type": "stream",
     "text": [
      "1\n",
      "2\n",
      "3\n",
      "4\n",
      "5\n",
      "inza\n"
     ]
    }
   ],
   "source": [
    "#For loop/ definite loop\n",
    "for i in [1,2,3,4,5]:\n",
    "    print(i)\n",
    "print(\"inza\")"
   ]
  },
  {
   "cell_type": "code",
   "execution_count": 20,
   "id": "56c516c3",
   "metadata": {},
   "outputs": [
    {
     "name": "stdout",
     "output_type": "stream",
     "text": [
      "apple\n",
      "mango\n",
      "banana\n"
     ]
    }
   ],
   "source": [
    "for i in ['apple','mango','banana']:\n",
    "    print(i)"
   ]
  },
  {
   "cell_type": "code",
   "execution_count": 21,
   "id": "a31af256",
   "metadata": {},
   "outputs": [
    {
     "name": "stdout",
     "output_type": "stream",
     "text": [
      "0\n",
      "1\n",
      "2\n",
      "3\n",
      "4\n",
      "5\n",
      "6\n",
      "7\n",
      "8\n",
      "9\n"
     ]
    }
   ],
   "source": [
    "for i in range(10):\n",
    "    print(i)"
   ]
  },
  {
   "cell_type": "code",
   "execution_count": 25,
   "id": "d5e6dddb",
   "metadata": {},
   "outputs": [
    {
     "name": "stdout",
     "output_type": "stream",
     "text": [
      "Happy 10 anniversary kimNamjoon\n",
      "Happy 10 anniversary kimseokjin\n",
      "Happy 10 anniversary junghoseok\n",
      "Happy 10 anniversary parkjimin\n",
      "Happy 10 anniversary kimtaehyunge\n",
      "Happy 10 anniversary jeonjungkook\n"
     ]
    }
   ],
   "source": [
    "BTS =['kimNamjoon','kimseokjin','junghoseok','parkjimin','kimtaehyunge','jeonjungkook']\n",
    "for i in BTS:\n",
    "    print(\"Happy 10 anniversary\",i)\n",
    "    "
   ]
  },
  {
   "cell_type": "code",
   "execution_count": 27,
   "id": "7110ed59",
   "metadata": {},
   "outputs": [
    {
     "name": "stdout",
     "output_type": "stream",
     "text": [
      "before\n",
      "1\n",
      "2\n",
      "3\n",
      "4\n",
      "67\n",
      "59\n",
      "50\n",
      "19\n",
      "after\n"
     ]
    }
   ],
   "source": [
    "print(\"before\")\n",
    "for i in [1,2,3,4,67,59,50,19]:\n",
    "    print(i)\n",
    "print(\"after\")"
   ]
  },
  {
   "cell_type": "code",
   "execution_count": 28,
   "id": "a99893fb",
   "metadata": {},
   "outputs": [
    {
     "name": "stdout",
     "output_type": "stream",
     "text": [
      "Largest number so far = 50\n",
      "Largest number so far = 80\n",
      "Largest number so far = 67\n",
      "Largest number so far = 1\n",
      "Largest number so far = 2\n",
      "Largest number so far = 3\n",
      "Largest number so far = 4\n",
      "Largest number so far = 70\n",
      "before 80\n"
     ]
    }
   ],
   "source": [
    "#find lasgest number\n",
    "Largest_number=-1\n",
    "for i in [50,80,67,1,2,3,4,70]:\n",
    "    if i>Largest_number:\n",
    "        Largest_number=i\n",
    "    print(\"Largest number so far =\",i)\n",
    "print(\"before\",Largest_number)\n",
    "        "
   ]
  },
  {
   "cell_type": "code",
   "execution_count": 30,
   "id": "24b4a325",
   "metadata": {},
   "outputs": [
    {
     "name": "stdout",
     "output_type": "stream",
     "text": [
      "largest number 80\n"
     ]
    }
   ],
   "source": [
    "#find lasgest number\n",
    "Largest_number=-1\n",
    "for i in [50,80,67,1,2,3,4,70]:\n",
    "    if i>Largest_number:\n",
    "        Largest_number=i\n",
    "print(\"largest number\",Largest_number)"
   ]
  },
  {
   "cell_type": "markdown",
   "id": "92a97bf3",
   "metadata": {},
   "source": [
    "# "
   ]
  },
  {
   "cell_type": "code",
   "execution_count": 31,
   "id": "14b49aad",
   "metadata": {},
   "outputs": [
    {
     "name": "stdout",
     "output_type": "stream",
     "text": [
      "before  0\n",
      "1 10\n",
      "2 20\n",
      "3 30\n",
      "4 40\n",
      "5 50\n",
      "after  5\n"
     ]
    }
   ],
   "source": [
    "a=0\n",
    "print(\"before \",a)\n",
    "for i in [10,20,30,40,50]:\n",
    "    a=a+1\n",
    "    print(a,i)\n",
    "print(\"after \",a)\n",
    "\n",
    "    "
   ]
  },
  {
   "cell_type": "code",
   "execution_count": 32,
   "id": "e1658e05",
   "metadata": {},
   "outputs": [
    {
     "name": "stdout",
     "output_type": "stream",
     "text": [
      "before 0\n",
      "1 korea\n",
      "2 UK\n",
      "3 USA\n",
      "after 3\n"
     ]
    }
   ],
   "source": [
    "a=0\n",
    "print(\"before\",a)\n",
    "for i in [\"korea\",\"UK\",\"USA\"]:\n",
    "    a=a+1\n",
    "    print(a,i)\n",
    "print(\"after\",a)"
   ]
  },
  {
   "cell_type": "code",
   "execution_count": 33,
   "id": "4a37a728",
   "metadata": {},
   "outputs": [
    {
     "name": "stdout",
     "output_type": "stream",
     "text": [
      "before 0\n",
      "1 1\n",
      "3 2\n",
      "6 3\n",
      "10 4\n",
      "15 5\n",
      "after 15\n"
     ]
    }
   ],
   "source": [
    "a=0\n",
    "print(\"before\",a)\n",
    "for i in [1,2,3,4,5]:\n",
    "    a=a+i\n",
    "    print(a,i)\n",
    "print(\"after\",a)"
   ]
  },
  {
   "cell_type": "code",
   "execution_count": 34,
   "id": "37922966",
   "metadata": {},
   "outputs": [
    {
     "name": "stdout",
     "output_type": "stream",
     "text": [
      "1 1 1\n",
      "2 3 2\n",
      "3 6 3\n",
      "after 3 6 2.0\n"
     ]
    }
   ],
   "source": [
    "sum=0\n",
    "count=0\n",
    "for i in [1,2,3]:\n",
    "    count=count+1\n",
    "    sum=sum+i\n",
    "    print(count,sum,i)\n",
    "print(\"after\",count,sum, sum/count)"
   ]
  },
  {
   "cell_type": "code",
   "execution_count": 37,
   "id": "4f48810b",
   "metadata": {},
   "outputs": [
    {
     "name": "stdout",
     "output_type": "stream",
     "text": [
      "before\n",
      "larger number 41\n",
      "larger number 60\n",
      "larger number 74\n",
      "after\n"
     ]
    }
   ],
   "source": [
    "#Filtering\n",
    "print(\"before\")\n",
    "for i in [9,41,60,74]:\n",
    "    if i>20:\n",
    "        print(\"larger number\",i)\n",
    "print(\"after\")"
   ]
  },
  {
   "cell_type": "code",
   "execution_count": 41,
   "id": "3fad335a",
   "metadata": {},
   "outputs": [
    {
     "name": "stdout",
     "output_type": "stream",
     "text": [
      "Before False\n",
      "True 3\n",
      "After True\n"
     ]
    }
   ],
   "source": [
    "found = False\n",
    "print('Before', found)\n",
    "for value in [10, 20, 20, 3, 40, 50] : \n",
    "    if value == 3 :# after 3 and including 3 all values are ture\n",
    "        found = True\n",
    "    print(found, value)\n",
    "print('After', found)"
   ]
  },
  {
   "cell_type": "code",
   "execution_count": 43,
   "id": "729bd6b2",
   "metadata": {},
   "outputs": [
    {
     "name": "stdout",
     "output_type": "stream",
     "text": [
      "Before -1\n",
      "-1 9\n",
      "-1 41\n",
      "-1 12\n",
      "-1 3\n",
      "-1 74\n",
      "-1 15\n",
      "After -1\n"
     ]
    }
   ],
   "source": [
    "smallest_so_far = -1\n",
    "print('Before', smallest_so_far)\n",
    "for i in [9, 41, 12, 3, 74, 15] :\n",
    "    if i < smallest_so_far :\n",
    "        smallest_so_far = i\n",
    "    print(smallest_so_far, i)\n",
    "print('After', smallest_so_far)"
   ]
  },
  {
   "cell_type": "code",
   "execution_count": 44,
   "id": "cf1cfb1b",
   "metadata": {},
   "outputs": [
    {
     "name": "stdout",
     "output_type": "stream",
     "text": [
      "Before\n",
      "9 9\n",
      "9 41\n",
      "9 12\n",
      "3 3\n",
      "3 74\n",
      "3 15\n",
      "After 3\n"
     ]
    }
   ],
   "source": [
    "smallest = None\n",
    "print('Before')\n",
    "for value in [9, 41, 12, 3, 74, 15] :\n",
    "    if smallest is None : \n",
    "        smallest = value\n",
    "    elif value < smallest : \n",
    "        smallest = value\n",
    "    print(smallest, value)\n",
    "print('After', smallest)"
   ]
  }
 ],
 "metadata": {
  "kernelspec": {
   "display_name": "Python 3 (ipykernel)",
   "language": "python",
   "name": "python3"
  },
  "language_info": {
   "codemirror_mode": {
    "name": "ipython",
    "version": 3
   },
   "file_extension": ".py",
   "mimetype": "text/x-python",
   "name": "python",
   "nbconvert_exporter": "python",
   "pygments_lexer": "ipython3",
   "version": "3.10.9"
  }
 },
 "nbformat": 4,
 "nbformat_minor": 5
}
